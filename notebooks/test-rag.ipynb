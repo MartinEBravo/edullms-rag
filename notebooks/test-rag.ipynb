{
 "cells": [
  {
   "cell_type": "markdown",
   "metadata": {},
   "source": [
    "https://medium.com/enterprise-rag/an-introduction-to-rag-and-simple-complex-rag-9c3aa9bd017b\n",
    "https://medium.com/@himanshuit3036/day-3-building-our-first-rag-e5b49b6cb6f6\n"
   ]
  },
  {
   "cell_type": "code",
   "execution_count": 30,
   "metadata": {},
   "outputs": [],
   "source": [
    "import dotenv\n",
    "import os\n",
    "\n",
    "dotenv.load_dotenv()\n",
    "api_key = os.getenv(\"OPENAI_API_KEY\")"
   ]
  },
  {
   "cell_type": "code",
   "execution_count": 31,
   "metadata": {},
   "outputs": [
    {
     "name": "stderr",
     "output_type": "stream",
     "text": [
      "PdfReadWarning: Xref table not zero-indexed. ID numbers for objects will be corrected. [pdf.py:1865]\n"
     ]
    }
   ],
   "source": [
    "# Open pdf file\n",
    "import PyPDF3\n",
    "\n",
    "book_path = '../data/raw/don_quijote/libro.pdf'\n",
    "\n",
    "pdf = open(book_path, 'rb')\n",
    "pdfdoc = PyPDF3.PdfFileReader(pdf)"
   ]
  },
  {
   "cell_type": "code",
   "execution_count": 32,
   "metadata": {},
   "outputs": [
    {
     "data": {
      "text/plain": [
       "471"
      ]
     },
     "execution_count": 32,
     "metadata": {},
     "output_type": "execute_result"
    }
   ],
   "source": [
    "pdfdoc.numPages"
   ]
  },
  {
   "cell_type": "code",
   "execution_count": 33,
   "metadata": {},
   "outputs": [
    {
     "name": "stdout",
     "output_type": "stream",
     "text": [
      "Miguel de Cervantes\n",
      "EL INGENIOSO HIDALGO\n",
      "   DON  QUIJOTE\n",
      " DE  LA  MANCHA\n",
      "No me imprimas, salva un árbol. ¿Para qué malgastar papel?\n",
      "\n"
     ]
    }
   ],
   "source": [
    "page_one= pdfdoc.getPage(0)\n",
    "print(page_one.extractText())"
   ]
  },
  {
   "cell_type": "code",
   "execution_count": 34,
   "metadata": {},
   "outputs": [],
   "source": [
    "# Get lists with texts of N pages\n",
    "pages_in_each_list = 1\n",
    "group_of_pages = []\n",
    "for i in range(0, pdfdoc.numPages, pages_in_each_list):\n",
    "    temp_texts = [page.extractText() for page in pdfdoc.pages[i:i+pages_in_each_list]]\n",
    "    complete_text = ' '.join(temp_texts)\n",
    "    group_of_pages.append(complete_text)"
   ]
  },
  {
   "cell_type": "code",
   "execution_count": 35,
   "metadata": {},
   "outputs": [
    {
     "data": {
      "text/plain": [
       "'Miguel de Cervantes\\nEL INGENIOSO HIDALGO\\n   DON  QUIJOTE\\n DE  LA  MANCHA\\nNo me imprimas, salva un árbol. ¿Para qué malgastar papel?\\n'"
      ]
     },
     "execution_count": 35,
     "metadata": {},
     "output_type": "execute_result"
    }
   ],
   "source": [
    "group_of_pages[0]"
   ]
  },
  {
   "cell_type": "code",
   "execution_count": 36,
   "metadata": {},
   "outputs": [],
   "source": [
    "from langchain_community.vectorstores import FAISS\n",
    "from langchain_openai import OpenAIEmbeddings\n",
    "from langchain.prompts import ChatPromptTemplate\n",
    "from langchain_openai import ChatOpenAI\n",
    "from langchain_core.output_parsers import StrOutputParser\n",
    "from langchain_core.runnables import RunnablePassthrough"
   ]
  },
  {
   "cell_type": "code",
   "execution_count": 37,
   "metadata": {},
   "outputs": [],
   "source": [
    "# TODO: Find a way to not use embedding of OpenAI\n",
    "\n",
    "vectorstore = FAISS.from_texts(texts=group_of_pages, embedding=OpenAIEmbeddings(api_key=api_key))"
   ]
  },
  {
   "cell_type": "code",
   "execution_count": 38,
   "metadata": {},
   "outputs": [],
   "source": [
    "prompt = \"\"\"Tu eres un profesor experto en lengua española. Tu tienes que responder preguntas relacionadas con libros. \n",
    "Considera el contexto y la pregunta del usuario mostradods abajo.\n",
    "context = {context}\n",
    "question = {question}\n",
    "\"\"\"\n",
    "prompt = ChatPromptTemplate.from_template(prompt)"
   ]
  },
  {
   "cell_type": "code",
   "execution_count": 39,
   "metadata": {},
   "outputs": [],
   "source": [
    "llm = ChatOpenAI(model_name=\"gpt-3.5-turbo\", temperature=0, api_key = api_key)\n",
    "retriever = vectorstore.as_retriever()"
   ]
  },
  {
   "cell_type": "code",
   "execution_count": 40,
   "metadata": {},
   "outputs": [],
   "source": [
    "def format_docs(docs):\n",
    "    return \"\\n\\n\".join(doc.page_content for doc in docs)"
   ]
  },
  {
   "cell_type": "code",
   "execution_count": 41,
   "metadata": {},
   "outputs": [],
   "source": [
    "rag_chain = (\n",
    "    {\"context\": retriever | format_docs, \"question\": RunnablePassthrough()}\n",
    "    | prompt\n",
    "    | llm\n",
    "    | StrOutputParser()\n",
    ")"
   ]
  },
  {
   "cell_type": "code",
   "execution_count": 42,
   "metadata": {},
   "outputs": [
    {
     "data": {
      "text/plain": [
       "'Don Quijote le prometió a Sancho Panza la ínsula, es decir, un territorio insular, como recompensa por sus servicios como escudero.'"
      ]
     },
     "execution_count": 42,
     "metadata": {},
     "output_type": "execute_result"
    }
   ],
   "source": [
    "rag_chain.invoke(\"¿Qué le prometió el Quijote a Sancho Panza?\")"
   ]
  }
 ],
 "metadata": {
  "kernelspec": {
   "display_name": "nb-env",
   "language": "python",
   "name": "python3"
  },
  "language_info": {
   "codemirror_mode": {
    "name": "ipython",
    "version": 3
   },
   "file_extension": ".py",
   "mimetype": "text/x-python",
   "name": "python",
   "nbconvert_exporter": "python",
   "pygments_lexer": "ipython3",
   "version": "3.12.1"
  }
 },
 "nbformat": 4,
 "nbformat_minor": 2
}
