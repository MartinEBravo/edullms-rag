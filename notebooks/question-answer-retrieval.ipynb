{
 "cells": [
  {
   "cell_type": "code",
   "execution_count": 1,
   "metadata": {},
   "outputs": [],
   "source": [
    "import dotenv\n",
    "import os\n",
    "\n",
    "dotenv.load_dotenv()\n",
    "api_key = os.getenv(\"OPENAI_API_KEY\")"
   ]
  },
  {
   "cell_type": "code",
   "execution_count": 2,
   "metadata": {},
   "outputs": [],
   "source": [
    "import PyPDF3\n",
    "\n",
    "book_path = '../data/raw/prueba-frankenstein/pauta_prueba.pdf'\n",
    "\n",
    "pdf = open(book_path, 'rb')\n",
    "pdfdoc = PyPDF3.PdfFileReader(pdf)"
   ]
  },
  {
   "cell_type": "code",
   "execution_count": 3,
   "metadata": {},
   "outputs": [],
   "source": [
    "from langchain_community.document_loaders import PyPDFLoader\n",
    "\n",
    "loader:PyPDFLoader = PyPDFLoader(book_path)\n",
    "pages = loader.load_and_split()"
   ]
  },
  {
   "cell_type": "code",
   "execution_count": 4,
   "metadata": {},
   "outputs": [
    {
     "data": {
      "text/plain": [
       "567"
      ]
     },
     "execution_count": 4,
     "metadata": {},
     "output_type": "execute_result"
    }
   ],
   "source": [
    "complete_text = ' '.join([page.page_content.replace('\\n', ' ') for page in pages])\n",
    "len(complete_text.split(' '))"
   ]
  },
  {
   "cell_type": "code",
   "execution_count": 5,
   "metadata": {},
   "outputs": [],
   "source": [
    "from langchain.prompts import ChatPromptTemplate\n",
    "\n",
    "prompt = \"\"\"Eres un profesor experto en todas las materias del colegio.\n",
    "Extrae las preguntas y respuestas que encuentres en el siguiente texto:\n",
    "texto = {texto}\n",
    "Separa cada pregunta y su respuesta con ;;.\n",
    "Separa cada par pregunta-respuesta con un salto de línea.\n",
    "En caso de que la pregunta venga con contexto, incluyelo con la pregunta.\n",
    "Ejemplo: Pregunta1;;Respuesta1||Pregunta2;;Respuesta2\n",
    "\"\"\"\n",
    "prompt = ChatPromptTemplate.from_template(prompt)"
   ]
  },
  {
   "cell_type": "code",
   "execution_count": 6,
   "metadata": {},
   "outputs": [],
   "source": [
    "from langchain_openai import ChatOpenAI\n",
    "\n",
    "model = ChatOpenAI(model=\"gpt-3.5-turbo\")"
   ]
  },
  {
   "cell_type": "code",
   "execution_count": 7,
   "metadata": {},
   "outputs": [],
   "source": [
    "from langchain_core.output_parsers import StrOutputParser\n",
    "from langchain_core.runnables import RunnablePassthrough\n",
    "\n",
    "llm_chain = (\n",
    "    {\"texto\": RunnablePassthrough()}\n",
    "    | prompt\n",
    "    | model\n",
    "    | StrOutputParser()\n",
    ")"
   ]
  },
  {
   "cell_type": "code",
   "execution_count": 8,
   "metadata": {},
   "outputs": [
    {
     "data": {
      "text/plain": [
       "'¿Quién es la mujer que aparece en la imagen?;;La escritora de la obra Mary Shelley\\n¿La novela está compuesta por XV capítulos?;;Falso, porque está compuesta por XIV capítulos\\n¿Quién le da vida a Frankenstein?;;Víctor Frankenstein\\n¿Quién fue la primera víctima de Frankenstein?;;Elizabeth\\nLa siguiente afirmación es verdadera o falsa: “Víctor supuso su matrimonio con Elizabeth ya que habían estado separados y no sabía cómo decir que ya no la amaba”.;;Está afirmación es falsa, ya que ellos efectivamente se casaron\\n¿Quién fue el único miembro de la familia que no mató Frankenstein?;;Su madre\\nLa siguiente afirmación es verdadera o falsa: “William murió por estrangulación”;;Verdadero\\n¿Qué quería Frankenstein como regalo de Víctor?;;Una compañera, mujer y esposa\\nLa siguiente afirmación es verdadera o falsa: “La novela está escrita en epístolas”;;Verdadero\\n¿Quién es Víctor Frankenstein?;;Un científico y creador de Frankenstein\\n¿Cuál es el tema de la novela?;;Obsesión y peligros de la ciencia\\n¿Cuál es el propósito del viaje de Walter?;;Explorar el polo norte\\nLa siguiente afirmación es verdadera o falsa: “El narrador de la novela es omnisciente”;;Falso\\n¿Cuántos hermanos tenía Víctor?;;Dos\\n¿Quién es Justine Moritz?;;La empleada de la casa\\n¿Cómo aprendió a leer Frankenstein?;;Mirando a la familia DeLacy\\n¿Cómo estaba conformado Frankenstein?;;De partes humanas y de animales\\n¿Qué piensa al final Víctor por su creación?;;No debería haber abandonado a la criatura\\n¿Qué se dice al final de la criatura?;;Decide prenderse fuego\\n¿Cómo muere la madre de Víctor?;;De escalinata'"
      ]
     },
     "execution_count": 8,
     "metadata": {},
     "output_type": "execute_result"
    }
   ],
   "source": [
    "output = llm_chain.invoke({\"texto\": complete_text})\n",
    "output"
   ]
  },
  {
   "cell_type": "code",
   "execution_count": 11,
   "metadata": {},
   "outputs": [
    {
     "data": {
      "text/plain": [
       "['¿Quién es la mujer que aparece en la imagen?;;La escritora de la obra Mary Shelley',\n",
       " '¿La novela está compuesta por XV capítulos?;;Falso, porque está compuesta por XIV capítulos',\n",
       " '¿Quién le da vida a Frankenstein?;;Víctor Frankenstein',\n",
       " '¿Quién fue la primera víctima de Frankenstein?;;Elizabeth',\n",
       " 'La siguiente afirmación es verdadera o falsa: “Víctor supuso su matrimonio con Elizabeth ya que habían estado separados y no sabía cómo decir que ya no la amaba”.;;Está afirmación es falsa, ya que ellos efectivamente se casaron',\n",
       " '¿Quién fue el único miembro de la familia que no mató Frankenstein?;;Su madre',\n",
       " 'La siguiente afirmación es verdadera o falsa: “William murió por estrangulación”;;Verdadero',\n",
       " '¿Qué quería Frankenstein como regalo de Víctor?;;Una compañera, mujer y esposa',\n",
       " 'La siguiente afirmación es verdadera o falsa: “La novela está escrita en epístolas”;;Verdadero',\n",
       " '¿Quién es Víctor Frankenstein?;;Un científico y creador de Frankenstein',\n",
       " '¿Cuál es el tema de la novela?;;Obsesión y peligros de la ciencia',\n",
       " '¿Cuál es el propósito del viaje de Walter?;;Explorar el polo norte',\n",
       " 'La siguiente afirmación es verdadera o falsa: “El narrador de la novela es omnisciente”;;Falso',\n",
       " '¿Cuántos hermanos tenía Víctor?;;Dos',\n",
       " '¿Quién es Justine Moritz?;;La empleada de la casa',\n",
       " '¿Cómo aprendió a leer Frankenstein?;;Mirando a la familia DeLacy',\n",
       " '¿Cómo estaba conformado Frankenstein?;;De partes humanas y de animales',\n",
       " '¿Qué piensa al final Víctor por su creación?;;No debería haber abandonado a la criatura',\n",
       " '¿Qué se dice al final de la criatura?;;Decide prenderse fuego',\n",
       " '¿Cómo muere la madre de Víctor?;;De escalinata']"
      ]
     },
     "execution_count": 11,
     "metadata": {},
     "output_type": "execute_result"
    }
   ],
   "source": [
    "output.split('\\n')"
   ]
  },
  {
   "cell_type": "code",
   "execution_count": null,
   "metadata": {},
   "outputs": [],
   "source": []
  }
 ],
 "metadata": {
  "kernelspec": {
   "display_name": "nb-env",
   "language": "python",
   "name": "python3"
  },
  "language_info": {
   "codemirror_mode": {
    "name": "ipython",
    "version": 3
   },
   "file_extension": ".py",
   "mimetype": "text/x-python",
   "name": "python",
   "nbconvert_exporter": "python",
   "pygments_lexer": "ipython3",
   "version": "3.12.1"
  }
 },
 "nbformat": 4,
 "nbformat_minor": 2
}
