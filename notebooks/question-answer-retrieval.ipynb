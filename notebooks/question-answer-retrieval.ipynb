{
 "cells": [
  {
   "cell_type": "code",
   "execution_count": 1,
   "metadata": {},
   "outputs": [],
   "source": [
    "import dotenv\n",
    "import os\n",
    "\n",
    "dotenv.load_dotenv()\n",
    "api_key = os.getenv(\"OPENAI_API_KEY\")"
   ]
  },
  {
   "cell_type": "code",
   "execution_count": 2,
   "metadata": {},
   "outputs": [],
   "source": [
    "from langchain_community.document_loaders import PyPDFLoader\n",
    "\n",
    "book_path = '../data/raw/prueba-frankenstein/pauta_prueba_2.pdf'\n",
    "\n",
    "loader:PyPDFLoader = PyPDFLoader(book_path)\n",
    "pages = loader.load_and_split()"
   ]
  },
  {
   "cell_type": "code",
   "execution_count": 3,
   "metadata": {},
   "outputs": [
    {
     "data": {
      "text/plain": [
       "1437"
      ]
     },
     "execution_count": 3,
     "metadata": {},
     "output_type": "execute_result"
    }
   ],
   "source": [
    "complete_text = ' '.join([page.page_content.replace('\\n', ' ') for page in pages])\n",
    "len(complete_text.split(' '))"
   ]
  },
  {
   "cell_type": "code",
   "execution_count": 4,
   "metadata": {},
   "outputs": [],
   "source": [
    "from langchain.prompts import ChatPromptTemplate\n",
    "\n",
    "prompt = \"\"\"Eres un profesor experto en todas las materias del colegio.\n",
    "Extrae las preguntas y respuestas que encuentres en el siguiente texto:\n",
    "texto = {texto}\n",
    "Separa cada pregunta y su respuesta con ;;.\n",
    "Separa cada par pregunta-respuesta con un salto de línea.\n",
    "En caso de que la pregunta venga con contexto, incluyelo con la pregunta.\n",
    "Ejemplo: Pregunta1;;Respuesta1||Pregunta2;;Respuesta2\n",
    "\"\"\"\n",
    "prompt = ChatPromptTemplate.from_template(prompt)"
   ]
  },
  {
   "cell_type": "code",
   "execution_count": 5,
   "metadata": {},
   "outputs": [],
   "source": [
    "from langchain_openai import ChatOpenAI\n",
    "\n",
    "model = ChatOpenAI(model=\"gpt-3.5-turbo\")"
   ]
  },
  {
   "cell_type": "code",
   "execution_count": 6,
   "metadata": {},
   "outputs": [],
   "source": [
    "from langchain_core.output_parsers import StrOutputParser\n",
    "from langchain_core.runnables import RunnablePassthrough\n",
    "\n",
    "llm_chain = (\n",
    "    {\"texto\": RunnablePassthrough()}\n",
    "    | prompt\n",
    "    | model\n",
    "    | StrOutputParser()\n",
    ")"
   ]
  },
  {
   "cell_type": "code",
   "execution_count": 7,
   "metadata": {},
   "outputs": [
    {
     "data": {
      "text/plain": [
       "'1 Considera las circunstancias en las que el padre de Frankenstein conoce a su futura esposa y se convierte de hecho en el padre de Elizabeth Lavenza. ¿Qué indican sobre su forma de ser?;;Que se trata de un espíritu generoso y caritativo, que acude en ayuda de sus seres queridos cuando estos lo necesitan.\\n\\n2 Desde niño Victor Frankenstein manifiesta una gran pasión por el conocimiento y la investigación. Busca al final de este capítulo una oración que resuma esta actitud.;;“El mundo era para mí un secreto que deseaba descubrir”.\\n\\n1 ¿Por qué llama el protagonista “disparatadas fantasías” a las teorías de Agrippa, Paracelso y Alberto Magno?;;Porque se trata de teorías sobradamente superadas al comienzo del siglo XIX, que están más cerca de la magia y de la brujería que de la ciencia moderna.\\n\\n2 En este capítulo queda completado el entorno familiar del protagonista. ¿Quiénes lo componen? ¿Cómo es su infancia en el seno de este entorno?;;Además de sus cariñosos padres, Victor tiene dos hermanos menores, Ernest, seis años más joven que él, y William, “el niño más precioso del mundo”. Además, está Elizabeth Lavenza, su prima. Su infancia es completamente feliz, rodeado del cariño y los cuidados de sus padres y hermanos (incluida Elizabeth, que es su compañera de juegos y amiga, además del parentesco señalado). Además, su amigo Henry Clerval es casi un miembro más de la familia, que cumple el papel de amigo de su edad del mismo sexo.\\n\\n1 ¿Cuál es la primera desgracia del protagonista? ¿Cómo sucede?;;Cuando contaba con diecisiete años, se muere su madre como consecuencia de padecer la enfermedad de la escarlatina, contagiada por su “hija” Elizabeth.\\n\\n2 ¿Qué opinión tiene Frankenstein de la filosofía natural cuando llega a la universidad? ¿Por qué cambia de opinión?;;La desprecia, pues las teorías modernas, a diferencia de las que habían ocupado su interés en la infancia, no se preocupaban por las grandes cuestiones de la vida, como la inmortalidad o el poder, sino por “realidades de poco valor”. Cambia de opinión porque asiste a una clase del profesor Waldman sobre química que le hace entender los grandes progresos que han conseguido en los últimos siglos las teorías modernas y esto hace revivir en él sus ambiciones infantiles de descubrir nuevos misterios de la creación.\\n\\n1 En este capítulo se utiliza la palabra quimera. Explica qué quiere decir y escribe a continuación tres deseos tuyos que puedan considerarse quiméricos.;;Respuesta libre.\\n\\n1 ¿Qué ciencias estudia Frankenstein especialmente? ¿Qué es lo que verdaderamente le interesa?;;Estudia sobre todo filosofía natural y química. Como lo que le interesa es conocer el principio de la vida, se dedica especialmente a estudiar todas las ramas de la filosofía natural relacionadas con la fisiología: botánica, microbiología, genética, anatomía, citología, zoología..., entre otras.\\n\\n2 El protagonista se refiere directamente en este capítulo a su receptor. ¿Quién es? ¿Por qué crees que lo hace?;;El receptor es Walton, a quien Frankenstein está contando su vida a bordo del barco. Lo hace para que no se nos olvide que esta historia se está contando con un determinado propósito: que Walton (e indirectamente, los lectores) saquen una enseñanza de su propia experiencia.\\n\\n3 ¿Qué es lo que descubre Frankenstein con sus estudios? ¿Qué es lo que se propone a partir de ese momento?;;A través de sus estudios Victor descubre la causa de la vida, cómo se puede otorgar de vida a la materia inerte. A partir de este momento se propone crear un ser humano.\\n\\n1 ¿Qué edad tiene Victor Frankenstein cuando empieza a recuperarse de la enfermedad nerviosa ocasionada por la creación del monstruo? En la carta que le envía Elizabeth se da un dato que te ayudará a averiguarla.;;Elizabeth dice en su carta que Ernest tiene ahora dieciséis años. Puesto que era seis años menor que Victor, este debe contar con veintidós años de edad.\\n\\n2 En la carta, Elizabeth da grandes muestras de afectividad a la hora de escribir. Cita algunas de ellas y explica qué procedimientos lingüísticos utiliza para ello.;;• El adjetivo explicativo “querido” en posición antepuesta a nombres comunes o propios: “querido primo”, “querido Henry”, “querido Victor”, “queridos niños”, “queridísima tía”, “querido primo”, “queridísimo Victor”. • El superlativo de “queridísimo / queridísima”. • Adverbios y adjetivos valorativos: “ansiosamente”, “pobre”. • Expresiones que expresan preocupación por el ser querido: “ponte bien y vuelve pronto con nosotros”; “escribe…”; “cuídate y, te lo suplico, ¡escríbenos!”. • Oraciones exclamativas: “¡qué contento estarías de observar el desarrollo de nuestro Ernest!”; “¡y cómo me gustaría que pudieras ver a nuestro pequeño William!”; “¡pobre chica!”.\\n\\n1 En este capítulo también podemos apreciar cómo para la sensibilidad de los escritores románticos el paisaje se adapta a los sentimientos de los personajes. ¿Puedes explicar dónde y por qué?;;El alma atormentada de Frankenstein por la muerte de su hermano pequeño se corresponde con la tormenta eléctrica nocturna sobre las cumbres de los Alpes, que es interpretada por aquel como el funeral que le rinda la naturaleza.\\n\\n2 Mientras Victor pasea por el lugar donde ha sido asesinado su hermano William ¿a quién descubre? ¿Qué es lo que empieza a sospechar?;;En medio de la oscuridad percibe una figura que se mueve detrás de los árboles, una figura gigante y deforme. Pronto se da cuenta de que se trata del demonio al que él había dado vida. Y por su mente, se cruza la idea de que ha sido él el asesino de su hermano.'"
      ]
     },
     "execution_count": 7,
     "metadata": {},
     "output_type": "execute_result"
    }
   ],
   "source": [
    "output = llm_chain.invoke({\"texto\": complete_text})\n",
    "output"
   ]
  },
  {
   "cell_type": "code",
   "execution_count": 11,
   "metadata": {},
   "outputs": [
    {
     "data": {
      "text/plain": [
       "[{'question': '1 Considera las circunstancias en las que el padre de Frankenstein conoce a su futura esposa y se convierte de hecho en el padre de Elizabeth Lavenza. ¿Qué indican sobre su forma de ser?',\n",
       "  'answer': 'Que se trata de un espíritu generoso y caritativo, que acude en ayuda de sus seres queridos cuando estos lo necesitan.'},\n",
       " {'question': '2 Desde niño Victor Frankenstein manifiesta una gran pasión por el conocimiento y la investigación. Busca al final de este capítulo una oración que resuma esta actitud.',\n",
       "  'answer': '“El mundo era para mí un secreto que deseaba descubrir”.'},\n",
       " {'question': '1 ¿Por qué llama el protagonista “disparatadas fantasías” a las teorías de Agrippa, Paracelso y Alberto Magno?',\n",
       "  'answer': 'Porque se trata de teorías sobradamente superadas al comienzo del siglo XIX, que están más cerca de la magia y de la brujería que de la ciencia moderna.'},\n",
       " {'question': '2 En este capítulo queda completado el entorno familiar del protagonista. ¿Quiénes lo componen? ¿Cómo es su infancia en el seno de este entorno?',\n",
       "  'answer': 'Además de sus cariñosos padres, Victor tiene dos hermanos menores, Ernest, seis años más joven que él, y William, “el niño más precioso del mundo”. Además, está Elizabeth Lavenza, su prima. Su infancia es completamente feliz, rodeado del cariño y los cuidados de sus padres y hermanos (incluida Elizabeth, que es su compañera de juegos y amiga, además del parentesco señalado). Además, su amigo Henry Clerval es casi un miembro más de la familia, que cumple el papel de amigo de su edad del mismo sexo.'},\n",
       " {'question': '1 ¿Cuál es la primera desgracia del protagonista? ¿Cómo sucede?',\n",
       "  'answer': 'Cuando contaba con diecisiete años, se muere su madre como consecuencia de padecer la enfermedad de la escarlatina, contagiada por su “hija” Elizabeth.'},\n",
       " {'question': '2 ¿Qué opinión tiene Frankenstein de la filosofía natural cuando llega a la universidad? ¿Por qué cambia de opinión?',\n",
       "  'answer': 'La desprecia, pues las teorías modernas, a diferencia de las que habían ocupado su interés en la infancia, no se preocupaban por las grandes cuestiones de la vida, como la inmortalidad o el poder, sino por “realidades de poco valor”. Cambia de opinión porque asiste a una clase del profesor Waldman sobre química que le hace entender los grandes progresos que han conseguido en los últimos siglos las teorías modernas y esto hace revivir en él sus ambiciones infantiles de descubrir nuevos misterios de la creación.'},\n",
       " {'question': '1 En este capítulo se utiliza la palabra quimera. Explica qué quiere decir y escribe a continuación tres deseos tuyos que puedan considerarse quiméricos.',\n",
       "  'answer': 'Respuesta libre.'},\n",
       " {'question': '1 ¿Qué ciencias estudia Frankenstein especialmente? ¿Qué es lo que verdaderamente le interesa?',\n",
       "  'answer': 'Estudia sobre todo filosofía natural y química. Como lo que le interesa es conocer el principio de la vida, se dedica especialmente a estudiar todas las ramas de la filosofía natural relacionadas con la fisiología: botánica, microbiología, genética, anatomía, citología, zoología..., entre otras.'},\n",
       " {'question': '2 El protagonista se refiere directamente en este capítulo a su receptor. ¿Quién es? ¿Por qué crees que lo hace?',\n",
       "  'answer': 'El receptor es Walton, a quien Frankenstein está contando su vida a bordo del barco. Lo hace para que no se nos olvide que esta historia se está contando con un determinado propósito: que Walton (e indirectamente, los lectores) saquen una enseñanza de su propia experiencia.'},\n",
       " {'question': '3 ¿Qué es lo que descubre Frankenstein con sus estudios? ¿Qué es lo que se propone a partir de ese momento?',\n",
       "  'answer': 'A través de sus estudios Victor descubre la causa de la vida, cómo se puede otorgar de vida a la materia inerte. A partir de este momento se propone crear un ser humano.'},\n",
       " {'question': '1 ¿Qué edad tiene Victor Frankenstein cuando empieza a recuperarse de la enfermedad nerviosa ocasionada por la creación del monstruo? En la carta que le envía Elizabeth se da un dato que te ayudará a averiguarla.',\n",
       "  'answer': 'Elizabeth dice en su carta que Ernest tiene ahora dieciséis años. Puesto que era seis años menor que Victor, este debe contar con veintidós años de edad.'},\n",
       " {'question': '2 En la carta, Elizabeth da grandes muestras de afectividad a la hora de escribir. Cita algunas de ellas y explica qué procedimientos lingüísticos utiliza para ello.',\n",
       "  'answer': '• El adjetivo explicativo “querido” en posición antepuesta a nombres comunes o propios: “querido primo”, “querido Henry”, “querido Victor”, “queridos niños”, “queridísima tía”, “querido primo”, “queridísimo Victor”. • El superlativo de “queridísimo / queridísima”. • Adverbios y adjetivos valorativos: “ansiosamente”, “pobre”. • Expresiones que expresan preocupación por el ser querido: “ponte bien y vuelve pronto con nosotros”; “escribe…”; “cuídate y, te lo suplico, ¡escríbenos!”. • Oraciones exclamativas: “¡qué contento estarías de observar el desarrollo de nuestro Ernest!”; “¡y cómo me gustaría que pudieras ver a nuestro pequeño William!”; “¡pobre chica!”.'},\n",
       " {'question': '1 En este capítulo también podemos apreciar cómo para la sensibilidad de los escritores románticos el paisaje se adapta a los sentimientos de los personajes. ¿Puedes explicar dónde y por qué?',\n",
       "  'answer': 'El alma atormentada de Frankenstein por la muerte de su hermano pequeño se corresponde con la tormenta eléctrica nocturna sobre las cumbres de los Alpes, que es interpretada por aquel como el funeral que le rinda la naturaleza.'},\n",
       " {'question': '2 Mientras Victor pasea por el lugar donde ha sido asesinado su hermano William ¿a quién descubre? ¿Qué es lo que empieza a sospechar?',\n",
       "  'answer': 'En medio de la oscuridad percibe una figura que se mueve detrás de los árboles, una figura gigante y deforme. Pronto se da cuenta de que se trata del demonio al que él había dado vida. Y por su mente, se cruza la idea de que ha sido él el asesino de su hermano.'}]"
      ]
     },
     "execution_count": 11,
     "metadata": {},
     "output_type": "execute_result"
    }
   ],
   "source": [
    "question_and_answers = []\n",
    "for question_answer in output.split('\\n\\n'):\n",
    "    question, answer = question_answer.split(';;')\n",
    "    question_and_answers.append({'question': question, 'answer': answer})\n",
    "\n",
    "question_and_answers"
   ]
  },
  {
   "cell_type": "code",
   "execution_count": null,
   "metadata": {},
   "outputs": [],
   "source": []
  }
 ],
 "metadata": {
  "kernelspec": {
   "display_name": "nb-env",
   "language": "python",
   "name": "python3"
  },
  "language_info": {
   "codemirror_mode": {
    "name": "ipython",
    "version": 3
   },
   "file_extension": ".py",
   "mimetype": "text/x-python",
   "name": "python",
   "nbconvert_exporter": "python",
   "pygments_lexer": "ipython3",
   "version": "3.12.1"
  }
 },
 "nbformat": 4,
 "nbformat_minor": 2
}
