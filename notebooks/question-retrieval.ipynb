{
 "cells": [
  {
   "cell_type": "code",
   "execution_count": 40,
   "metadata": {},
   "outputs": [],
   "source": [
    "import dotenv\n",
    "import os\n",
    "\n",
    "dotenv.load_dotenv()\n",
    "api_key = os.getenv(\"OPENAI_API_KEY\")"
   ]
  },
  {
   "cell_type": "code",
   "execution_count": 41,
   "metadata": {},
   "outputs": [],
   "source": [
    "import PyPDF3\n",
    "\n",
    "book_path = '../data/raw/paes-historia-2023/economia_y_sociedad.pdf'\n",
    "\n",
    "pdf = open(book_path, 'rb')\n",
    "pdfdoc = PyPDF3.PdfFileReader(pdf)"
   ]
  },
  {
   "cell_type": "code",
   "execution_count": 42,
   "metadata": {},
   "outputs": [],
   "source": [
    "from langchain_community.document_loaders import PyPDFLoader\n",
    "\n",
    "loader:PyPDFLoader = PyPDFLoader(book_path)\n",
    "pages = loader.load_and_split()"
   ]
  },
  {
   "cell_type": "code",
   "execution_count": 43,
   "metadata": {},
   "outputs": [
    {
     "data": {
      "text/plain": [
       "752"
      ]
     },
     "execution_count": 43,
     "metadata": {},
     "output_type": "execute_result"
    }
   ],
   "source": [
    "complete_text = ' '.join([page.page_content.replace('\\n', ' ') for page in pages])\n",
    "len(complete_text.split(' '))"
   ]
  },
  {
   "cell_type": "code",
   "execution_count": 44,
   "metadata": {},
   "outputs": [],
   "source": [
    "from langchain.prompts import ChatPromptTemplate\n",
    "\n",
    "prompt = \"\"\"Eres un profesor experto en todas las materias del colegio.\n",
    "Extrae las preguntas que encuentres en el siguiente texto:\n",
    "texto = {texto}\n",
    "y separalas con 2 punto y coma (;;)\n",
    "En caso de que la pregunta venga con contexto, incluyelo con la pregunta.\n",
    "Ejemplo: Pregunta 1;;Pregunta 2;;Pregunta 3\n",
    "\"\"\"\n",
    "prompt = ChatPromptTemplate.from_template(prompt)"
   ]
  },
  {
   "cell_type": "code",
   "execution_count": 45,
   "metadata": {},
   "outputs": [],
   "source": [
    "from langchain_openai import ChatOpenAI\n",
    "\n",
    "model = ChatOpenAI(model=\"gpt-3.5-turbo\")"
   ]
  },
  {
   "cell_type": "code",
   "execution_count": 46,
   "metadata": {},
   "outputs": [],
   "source": [
    "from langchain_core.output_parsers import StrOutputParser\n",
    "from langchain_core.runnables import RunnablePassthrough\n",
    "\n",
    "llm_chain = (\n",
    "    {\"texto\": RunnablePassthrough()}\n",
    "    | prompt\n",
    "    | model\n",
    "    | StrOutputParser()\n",
    ")"
   ]
  },
  {
   "cell_type": "code",
   "execution_count": 47,
   "metadata": {},
   "outputs": [
    {
     "data": {
      "text/plain": [
       "'59. Una de las metas que tiene el Banco Central de Chile es promover la estabilidad y eficacia del sistema financiero. ¿Cuál es una acción que realiza esta entidad para cumplir dicho objetivo? A) Regular la cantidad de dinero circulante. B) Establecer los requisitos para solicitar un crédito. C) Fiscalizar los mercados de bancos, valores y seguros. D) Sancionar el incumplimiento en el pago de impuestos. E) Fijar los precios de los productos de consumo masivo.;;60. El funcionamiento del sistema económico chileno está determinado por una serie de factores; entre ellos, el consumo que hacen las familias como agentes de la economía. Considerando la realidad chilena actual, ¿cuál de las siguientes situaciones favorece este consumo? A) El mayor acceso a créditos. B) El aumento del ahorro previsional. C) La estabilidad de las tasas de interés. D) La existencia de una Ley del Consumidor. E) El establecimiento de una banda de precios.;;61. En una economía de mercado, cuando el precio de un bien sube significativamente impacta en la población, ya que se dificulta el acceso a él, por lo cual se recurre a bienes sustitutos. ¿Cuál es una característica que define a este tipo de bienes? A) Tienen una amplia difusión publicitaria. B) Están disponibles en grandes volúmenes. C) Tienen un precio equivalente al bien que sustituyen. D) Compiten en calidad con los bienes complementarios. E) Satisfacen la misma necesidad que el bien reemplazado.;;62. La economía de libre mercado se sustenta en un conjunto de principios básicos que explican su organización y funcionamiento. ¿Cuál es uno de estos principios básicos? A) La especialización del sistema productivo. B) La fijación de precios por parte del Estado. C) La supresión de cargas tributarias al sector privado. D) La protección de la industria manufacturera nacional. E) La autorregulación del mercado mediante la oferta y la demanda.;;63. El problema económico de la escasez exige a los agentes económicos evaluar permanentemente un conjunto de factores antes de tomar sus decisiones, estableciendo ciertas estrategias. Considerando la teoría económica, ¿cuál es una de las estrategias de los agentes económicos para enfrentar la escasez? A) Aumentar la capacidad de producir recursos naturales. B) Jerarquizar las necesidades que deben ser satisfechas. C) Modificar el comportamiento de los precios en el largo plazo. D) Disminuir paulatinamente el consumo de bienes alternativos. E) Privilegiar el pago de impuestos de los bienes de primera necesidad.;;64. En el contexto del sistema productivo, los agentes económicos actúan para conseguir distintos bienes que necesitan. ¿Cuál es un mecanismo utilizado por la empresa privada para conseguir los bienes que necesita? A) La recaudación del impuesto al valor agregado. B) La inversión mediante instrumentos financieros. C) El cobro de aranceles de importación de bienes. D) El establecimiento de subsidios a la contratación. E) La disminución de la productividad de sus procesos.;;65. La organización de la economía está expuesta a diversas situaciones que pueden alterar su funcionamiento. ¿Cuál es uno de los efectos de la inflación en el funcionamiento del mercado? A) Induce una estabilización de la demanda. B) Fomenta un aumento acelerado de la oferta. C) Provoca una disminución del poder adquisitivo. D) Estimula un aumento progresivo de la inversión. E) Produce un descenso generalizado de los precios.'"
      ]
     },
     "execution_count": 47,
     "metadata": {},
     "output_type": "execute_result"
    }
   ],
   "source": [
    "output = llm_chain.invoke({\"texto\": complete_text})\n",
    "output"
   ]
  },
  {
   "cell_type": "code",
   "execution_count": 48,
   "metadata": {},
   "outputs": [
    {
     "data": {
      "text/plain": [
       "['59. Una de las metas que tiene el Banco Central de Chile es promover la estabilidad y eficacia del sistema financiero. ¿Cuál es una acción que realiza esta entidad para cumplir dicho objetivo? A) Regular la cantidad de dinero circulante. B) Establecer los requisitos para solicitar un crédito. C) Fiscalizar los mercados de bancos, valores y seguros. D) Sancionar el incumplimiento en el pago de impuestos. E) Fijar los precios de los productos de consumo masivo.',\n",
       " '60. El funcionamiento del sistema económico chileno está determinado por una serie de factores; entre ellos, el consumo que hacen las familias como agentes de la economía. Considerando la realidad chilena actual, ¿cuál de las siguientes situaciones favorece este consumo? A) El mayor acceso a créditos. B) El aumento del ahorro previsional. C) La estabilidad de las tasas de interés. D) La existencia de una Ley del Consumidor. E) El establecimiento de una banda de precios.',\n",
       " '61. En una economía de mercado, cuando el precio de un bien sube significativamente impacta en la población, ya que se dificulta el acceso a él, por lo cual se recurre a bienes sustitutos. ¿Cuál es una característica que define a este tipo de bienes? A) Tienen una amplia difusión publicitaria. B) Están disponibles en grandes volúmenes. C) Tienen un precio equivalente al bien que sustituyen. D) Compiten en calidad con los bienes complementarios. E) Satisfacen la misma necesidad que el bien reemplazado.',\n",
       " '62. La economía de libre mercado se sustenta en un conjunto de principios básicos que explican su organización y funcionamiento. ¿Cuál es uno de estos principios básicos? A) La especialización del sistema productivo. B) La fijación de precios por parte del Estado. C) La supresión de cargas tributarias al sector privado. D) La protección de la industria manufacturera nacional. E) La autorregulación del mercado mediante la oferta y la demanda.',\n",
       " '63. El problema económico de la escasez exige a los agentes económicos evaluar permanentemente un conjunto de factores antes de tomar sus decisiones, estableciendo ciertas estrategias. Considerando la teoría económica, ¿cuál es una de las estrategias de los agentes económicos para enfrentar la escasez? A) Aumentar la capacidad de producir recursos naturales. B) Jerarquizar las necesidades que deben ser satisfechas. C) Modificar el comportamiento de los precios en el largo plazo. D) Disminuir paulatinamente el consumo de bienes alternativos. E) Privilegiar el pago de impuestos de los bienes de primera necesidad.',\n",
       " '64. En el contexto del sistema productivo, los agentes económicos actúan para conseguir distintos bienes que necesitan. ¿Cuál es un mecanismo utilizado por la empresa privada para conseguir los bienes que necesita? A) La recaudación del impuesto al valor agregado. B) La inversión mediante instrumentos financieros. C) El cobro de aranceles de importación de bienes. D) El establecimiento de subsidios a la contratación. E) La disminución de la productividad de sus procesos.',\n",
       " '65. La organización de la economía está expuesta a diversas situaciones que pueden alterar su funcionamiento. ¿Cuál es uno de los efectos de la inflación en el funcionamiento del mercado? A) Induce una estabilización de la demanda. B) Fomenta un aumento acelerado de la oferta. C) Provoca una disminución del poder adquisitivo. D) Estimula un aumento progresivo de la inversión. E) Produce un descenso generalizado de los precios.']"
      ]
     },
     "execution_count": 48,
     "metadata": {},
     "output_type": "execute_result"
    }
   ],
   "source": [
    "output.split(';;')"
   ]
  },
  {
   "cell_type": "code",
   "execution_count": null,
   "metadata": {},
   "outputs": [],
   "source": []
  }
 ],
 "metadata": {
  "kernelspec": {
   "display_name": "nb-env",
   "language": "python",
   "name": "python3"
  },
  "language_info": {
   "codemirror_mode": {
    "name": "ipython",
    "version": 3
   },
   "file_extension": ".py",
   "mimetype": "text/x-python",
   "name": "python",
   "nbconvert_exporter": "python",
   "pygments_lexer": "ipython3",
   "version": "3.12.1"
  }
 },
 "nbformat": 4,
 "nbformat_minor": 2
}
